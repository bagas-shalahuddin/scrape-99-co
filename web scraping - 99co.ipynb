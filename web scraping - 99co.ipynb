{
 "cells": [
  {
   "cell_type": "code",
   "execution_count": null,
   "metadata": {
    "collapsed": true
   },
   "outputs": [],
   "source": [
    "import pandas as pd\n",
    "from selenium import webdriver\n",
    "from bs4 import BeautifulSoup\n",
    "\n",
    "from selenium.common.exceptions import TimeoutException\n",
    "from selenium.webdriver.support.ui import WebDriverWait\n",
    "from selenium.webdriver.support import expected_conditions as EC\n",
    "from selenium.webdriver.common.by import By\n",
    "import time"
   ]
  },
  {
   "cell_type": "code",
   "execution_count": null,
   "metadata": {},
   "outputs": [],
   "source": [
    "def initialize_driver(pagenum):\n",
    "  # Set webdriver options\n",
    "  options = webdriver.ChromeOptions()\n",
    "  options.add_argument('--no-sandbox')\n",
    "  options.add_argument('ignore-certificate-errors')\n",
    "\n",
    "  driver = webdriver.Chrome(options=options)\n",
    "  driver.get(f\"https://www.99.co/id/jual/rumah?hlmn={pagenum}\")\n",
    "  return driver "
   ]
  },
  {
   "cell_type": "code",
   "execution_count": null,
   "metadata": {},
   "outputs": [],
   "source": [
    "driver = initialize_driver(1)"
   ]
  },
  {
   "cell_type": "code",
   "execution_count": null,
   "metadata": {
    "collapsed": true
   },
   "outputs": [],
   "source": [
    "daftar_waktu_update = []\n",
    "daftar_alamat = []\n",
    "daftar_jumlah_kamar_tidur = []\n",
    "daftar_jumlah_kamar_mandi = []\n",
    "daftar_meter_persegi_bangunan = []\n",
    "daftar_meter_persegi_tanah = []\n",
    "daftar_harga = []"
   ]
  },
  {
   "cell_type": "code",
   "execution_count": null,
   "metadata": {},
   "outputs": [],
   "source": [
    "def check_captcha(driver):\n",
    "  try:\n",
    "    driver.find_element(By.XPATH, \"//*[contains(text(), 'Verify you are human by completing the action below')]\")\n",
    "    return True\n",
    "  except:\n",
    "    return False"
   ]
  },
  {
   "cell_type": "code",
   "execution_count": null,
   "metadata": {},
   "outputs": [],
   "source": [
    "pagenum = 1\n",
    "\n",
    "while True:\n",
    "    time.sleep(2)\n",
    "        \n",
    "    my_page = driver.page_source\n",
    "    my_html = BeautifulSoup(my_page, \"html.parser\") # get html\n",
    "    \n",
    "    first_containers = my_html.findAll('div', {'class':'cardSecondary__info-wrapper_detail'}) # get containers\n",
    "\n",
    "    for container in first_containers:\n",
    "        \n",
    "        # Extract updated date\n",
    "        tag_waktu_update = container.find('time')\n",
    "        waktu_update = tag_waktu_update.get_text().strip() if tag_waktu_update else \"unknown\"\n",
    "        daftar_waktu_update = [].append(waktu_update)\n",
    "        \n",
    "        # Extract address\n",
    "        tag_alamat = container.find('address')\n",
    "        alamat = tag_alamat.get_text().strip() if tag_alamat else \"unknown\"\n",
    "        daftar_alamat.append(alamat)\n",
    "        \n",
    "        # Extract harga\n",
    "        price_tag = container.find('div', class_='price__tag')\n",
    "        price = price_tag.strong.get_text().strip()[2:] if price_tag else \"unknown\"\n",
    "        daftar_harga.append(price)\n",
    "        \n",
    "    second_containers = my_html.findAll('div', {'class':'cardSecondary__info-wrapper_attributes'}) # get containers\n",
    "\n",
    "    for container in second_containers:\n",
    "        # Extract number of bedrooms\n",
    "        tag_jumlah_kamar_tidur = container.find('div', class_='left').find_all('div')[0]\n",
    "        jumlah_kamar_tidur = tag_jumlah_kamar_tidur.get_text().strip() if tag_jumlah_kamar_tidur else \"unknown\"\n",
    "        daftar_jumlah_kamar_tidur.append(jumlah_kamar_tidur)\n",
    "        \n",
    "        # Extract number of bathrooms\n",
    "        tag_jumlah_kamar_mandi = container.find('div', class_='left').find_all('div')[1]\n",
    "        jumlah_kamar_mandi = tag_jumlah_kamar_mandi.get_text().strip() if tag_jumlah_kamar_mandi else \"unknown\"\n",
    "        daftar_jumlah_kamar_mandi.append(jumlah_kamar_mandi)\n",
    "\n",
    "        # Extract land area (LT)\n",
    "        tag_luas_tanah = container.find('div', class_='right').find_all('div')[0]\n",
    "        luas_tanah = tag_luas_tanah.get_text().strip()[2:-3] if tag_luas_tanah else \"unknown\"\n",
    "        daftar_meter_persegi_tanah.append(luas_tanah)\n",
    "\n",
    "        # Extract building area (LB)\n",
    "        tag_luas_bangunan = container.find('div', class_='right').find_all('div')[1]\n",
    "        luas_bangunan = tag_luas_bangunan.get_text().strip()[2:-3] if tag_luas_bangunan else \"unknown\"\n",
    "        daftar_meter_persegi_bangunan.append(luas_bangunan)\n",
    "\n",
    "    try: \n",
    "        if check_captcha(driver):\n",
    "            print(\"CAPTCHA detected. Close.\")\n",
    "            driver.quit()\n",
    "            time.sleep(60)\n",
    "            initialize_driver(pagenum+1)\n",
    "            \n",
    "        # Wait for the \"Next\" button to be clickable\n",
    "        next_button = driver.find_element(By.CLASS_NAME, 'ui-atomic-pagination__item--next')\n",
    "        \n",
    "        # Scroll to the \"Next\" button and ensure it's in the middle of the screen\n",
    "        driver.execute_script(\"window.scrollTo({ top: arguments[0].getBoundingClientRect().top + window.scrollY - (window.innerHeight / 2), behavior: 'smooth' });\", next_button)\n",
    "        \n",
    "        # Click the \"Next\" button using JavaScript to ensure interaction\n",
    "        driver.execute_script(\"arguments[0].click();\", next_button)\n",
    "        \n",
    "        pagenum += 1\n",
    "    \n",
    "        print('Page:', pagenum)\n",
    "\n",
    "    except Exception as e:\n",
    "        print(e)\n",
    "        print(f\"No more pages. Exiting. Error: {e}\")\n",
    "        break\n",
    "    \n",
    "print('End of loop')"
   ]
  },
  {
   "cell_type": "code",
   "execution_count": null,
   "metadata": {
    "collapsed": true
   },
   "outputs": [],
   "source": [
    "# Create a DataFrame from the lists\n",
    "df = pd.DataFrame({\n",
    "    'updated_time': pd.Series(daftar_waktu_update),\n",
    "    'address': pd.Series(daftar_alamat),\n",
    "    'bedrooms': pd.Series(daftar_jumlah_kamar_tidur),\n",
    "    'bathrooms': pd.Series(daftar_jumlah_kamar_mandi),\n",
    "    'building_area_sqm': pd.Series(daftar_meter_persegi_bangunan),\n",
    "    'land_area_sqm': pd.Series(daftar_meter_persegi_tanah),\n",
    "    'price': pd.Series(daftar_harga),\n",
    "})\n",
    "\n",
    "# Save the DataFrame to a CSV file\n",
    "df.to_csv('property_listings.csv', index=False)\n",
    "\n",
    "print(\"Data saved to property_listings.csv\")"
   ]
  }
 ],
 "metadata": {
  "kernelspec": {
   "display_name": "Python 3",
   "language": "python",
   "name": "python3"
  },
  "language_info": {
   "codemirror_mode": {
    "name": "ipython",
    "version": 3
   },
   "file_extension": ".py",
   "mimetype": "text/x-python",
   "name": "python",
   "nbconvert_exporter": "python",
   "pygments_lexer": "ipython3",
   "version": "3.12.2"
  }
 },
 "nbformat": 4,
 "nbformat_minor": 2
}
